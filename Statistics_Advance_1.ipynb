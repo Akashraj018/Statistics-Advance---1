{
  "nbformat": 4,
  "nbformat_minor": 0,
  "metadata": {
    "colab": {
      "provenance": []
    },
    "kernelspec": {
      "name": "python3",
      "display_name": "Python 3"
    },
    "language_info": {
      "name": "python"
    }
  },
  "cells": [
    {
      "cell_type": "markdown",
      "source": [
        "1.What is a random variable in probability theory?\n",
        "\n",
        "A random variable is a variable that takes on numerical values determined by the outcome of a random experiment. It provides a way to quantify uncertainty. it use for Model real-world randomness mathematically, Use tools like distributions, means, variances, etc\n",
        "There are two type of Random Variable\n",
        "1.Discrete Random Variable - Takes on a countable number of values.\n",
        "example -  Coin Tosses , die roll\n",
        "PMF = P(X=x)\n",
        "2.Continuous Random Variable - Takes on values from an uncountable (continuous) set, usually intervals on the real number line.\n",
        "example - height of person , bus arrival\n",
        "PDF = P(a≤X≤b)=∫ab​f(x)dx\n"
      ],
      "metadata": {
        "id": "bvtDDyC4R6an"
      }
    },
    {
      "cell_type": "markdown",
      "source": [
        "2.What are the types of random variables?\n",
        "There are two type of random Variables.\n",
        "1.Discrete Random Variables\n",
        "A discrete random variable can take on a countable number of distinct values.\n",
        "Characteristics of discrete random Variables\n",
        "a- Values can be listed or counted\n",
        "b- The total of all probabilities is 1\n",
        "c- PMF = P(X=x)\n",
        "\n",
        "2. Continuous Random Variables\n",
        "A continuous random variable can take any value within a given range or interval, often over the real numbers.\n",
        "Characteristics of continuous random Variables\n",
        "a- Values are uncountable\n",
        "b- The probability of any exact value is zero\n",
        "c- PDF = P(a≤X≤b)=∫ab​f(x)dx"
      ],
      "metadata": {
        "id": "xOH3Nht-TDvT"
      }
    },
    {
      "cell_type": "markdown",
      "source": [
        "3.Explain the difference between discrete and continuous distributions.\n",
        "\n",
        "Discrete Distribution -\n",
        "1.Takes countable values\n",
        "2.Finite or countably infinite Possible Values\n",
        "3.P(X=x)>0 is possible Probability at a Point\n",
        "4.Probability Mass Function (PMF) is use to representation probability\n",
        "\n",
        "Continuous distributions\n",
        "1.Takes values in a continuous range\n",
        "2.Uncountably infinite (any value in an interval)\n",
        "3.P(X=x)=0 for any exact value\n",
        "4.Probability Density Function (PDF) is use to representation probability"
      ],
      "metadata": {
        "id": "7VY4jf90UUta"
      }
    },
    {
      "cell_type": "markdown",
      "source": [
        "4.What is a binomial distribution, and how is it used in probability?\n",
        " The binomial distribution is a fundamental probability distribution used to model the number of successes in a fixed number of independent trials, where each trial has only two possible outcomes: success or failure\n",
        " Conditions for a Binomial Distribution\n",
        " we can use a binomial distribution if all of the following are true\n",
        " 1.Fixed number of trials n\n",
        " 2.Only two outcomes per trial (success or failure)\n",
        " 3.Same probability of success p in each trial\n",
        " 4.Independent trials\n",
        "\n",
        " Formula\n",
        " P(X = k)= (n/k)p^k (1-p)^(n-k)\n",
        "\n",
        " It Commonly use for Quality control, Marketing , Finance\n",
        ""
      ],
      "metadata": {
        "id": "KxWULfs1V7t9"
      }
    },
    {
      "cell_type": "markdown",
      "source": [
        " 5.What is the standard normal distribution, and why is it important\n",
        "\n",
        " The standard normal distribution is a special case of the normal (or Gaussian) distribution that plays a central role in probability and statistics.The key feature is Bell-shaped curve, Total area under curve(equals =1) ,Mean = 0 and Standard deviation = 1\n",
        " Many statistical tests (e.g. Z-tests) and confidence intervals assume or use the standard normal distribution.\n",
        " it is used in many place Hypothesis testing,ML,Quality control"
      ],
      "metadata": {
        "id": "q-ujTDxjXQWv"
      }
    },
    {
      "cell_type": "markdown",
      "source": [
        "6.What is the Central Limit Theorem (CLT), and why is it critical in statistics?\n",
        "The Central Limit Theorem (CLT) is one of the most important concepts in statistics because it explains why normal distributions are so widely used, even when the underlying data is not normally distributed.\n",
        "CLT Theorem\n",
        "When you take sufficiently large random samples from any population , the sampling distribution of the sample mean will approximate a normal distribution, regardless of the population’s original distribution.\n",
        "In simple term we says that Suppose you have any population — it could be skewed, uniform, or weirdly shaped.You take many random samples of size n, compute the mean of each sample. Then plot those sample means.\n",
        "As n gets large, the distribution of those sample means will look more and more like a normal curve.\n",
        "it so important  beacause\n",
        "1.Allows us to use the normal distribution for confidence intervals, hypothesis tests, and Z-scores, even when the population isn’t normal.\n",
        "2.Works for Most Data\n",
        "3.Z-tests, t-tests, regression models, ANOVA — all rely on the CLT.\n",
        "It justifies using the normal model in applied statistics."
      ],
      "metadata": {
        "id": "OxWSvPsGYSH_"
      }
    },
    {
      "cell_type": "markdown",
      "source": [
        "7.What is the significance of confidence intervals in statistical analysis\n",
        "\n",
        "Confidence intervals (CIs) are a fundamental concept in statistics used to estimate population parameters (like a mean or proportion) based on sample data — with a measure of uncertainty.\n",
        "Confidence Interval = A confidence interval is a range of values, calculated from sample data, that is likely to contain the true population parameter.\n",
        "                   Estimate±Margin of Error\n",
        "it help us as Estimation, uncertainty, decision-making\n"
      ],
      "metadata": {
        "id": "xHSzMPYkZPgP"
      }
    },
    {
      "cell_type": "markdown",
      "source": [
        "8.What is the concept of expected value in a probability distribution\n",
        "The expected value is a key concept in probability theory and statistics. It represents the long-run average or mean value of a random variable over many trials of a random experiment.\n",
        "The expected value is the weighted average of all possible outcomes of a random variable, where each outcome is weighted by its probability.\n",
        "Expected Value for Different Types of Random Variables\n",
        "\n"
      ],
      "metadata": {
        "id": "X0shSJUcZsld"
      }
    },
    {
      "cell_type": "code",
      "source": [
        "# Write a Python program to generate 1000 random numbers from a normal\n",
        "#distribution with mean = 50 and standard deviation = 5. Compute its mean and standard\n",
        "#deviation using NumPy, and draw a histogram to visualize the distribution.\n",
        "\n",
        "import numpy as np\n",
        "import matplotlib.pyplot as plt\n",
        "\n",
        "#Set the parameters\n",
        "mean = 50\n",
        "std_dev = 5\n",
        "sample_size = 1000\n",
        "\n",
        "#Generate random numbers from a normal distribution\n",
        "data = np.random.normal(loc=mean, scale=std_dev, size=sample_size)\n",
        "\n",
        "#Compute mean and standard deviation\n",
        "sample_mean = np.mean(data)\n",
        "sample_std = np.std(data)\n",
        "\n",
        " #Print results\n",
        "print(f\"Sample Mean: {sample_mean:.2f}\")\n",
        "print(f\"Sample Standard Deviation: {sample_std:.2f}\")\n",
        "\n",
        " #Plot histogram\n",
        "plt.figure(figsize=(10, 6))\n",
        "plt.hist(data, bins=30, color='skyblue', edgecolor='black', alpha=0.7)\n",
        "plt.title('Histogram of Normally Distributed Data (mean=50, std=5)')\n",
        "plt.xlabel('Value')\n",
        "plt.ylabel('Frequency')\n",
        "plt.grid(True)\n",
        "plt.axvline(sample_mean, color='red', linestyle='dashed', linewidth=2, label=f'Mean = {sample_mean:.2f}')\n",
        "plt.legend()\n",
        "plt.show()\n"
      ],
      "metadata": {
        "colab": {
          "base_uri": "https://localhost:8080/",
          "height": 599
        },
        "id": "MqZe60YvaJ3I",
        "outputId": "ed08abe7-6986-405f-f8fc-364564f895e7"
      },
      "execution_count": 2,
      "outputs": [
        {
          "output_type": "stream",
          "name": "stdout",
          "text": [
            "Sample Mean: 50.41\n",
            "Sample Standard Deviation: 5.09\n"
          ]
        },
        {
          "output_type": "display_data",
          "data": {
            "text/plain": [
              "<Figure size 1000x600 with 1 Axes>"
            ],
            "image/png": "[encoded data removed]"
          },
          "metadata": {}
        }
      ]
    },
    {
      "cell_type": "code",
      "source": [
        "#10\n",
        "import numpy as np\n",
        "import scipy.stats as stats\n",
        "\n",
        "# Given daily sales data\n",
        "daily_sales = [220, 245, 210, 265, 230, 250, 260, 275, 240, 255,\n",
        "               235, 260, 245, 250, 225, 270, 265, 255, 250, 260]\n",
        "\n",
        "# Convert to NumPy array for calculations\n",
        "sales = np.array(daily_sales)\n",
        "\n",
        "# Sample size\n",
        "n = len(sales)\n",
        "\n",
        "# Sample mean and standard deviation\n",
        "mean_sales = np.mean(sales)\n",
        "std_sales = np.std(sales, ddof=1)  # Use ddof=1 for sample std dev\n",
        "\n",
        "# Standard error\n",
        "standard_error = std_sales / np.sqrt(n)\n",
        "\n",
        "# 95% confidence level, two-tailed -> use t-distribution for small n\n",
        "confidence_level = 0.95\n",
        "degrees_freedom = n - 1\n",
        "t_critical = stats.t.ppf((1 + confidence_level) / 2, df=degrees_freedom)\n",
        "\n",
        "# Margin of error\n",
        "margin_of_error = t_critical * standard_error\n",
        "\n",
        "# Confidence interval\n",
        "lower_bound = mean_sales - margin_of_error\n",
        "upper_bound = mean_sales + margin_of_error\n",
        "\n",
        "# Output results\n",
        "print(f\"Mean Daily Sales: {mean_sales:.2f}\")\n",
        "print(f\"95% Confidence Interval: ({lower_bound:.2f}, {upper_bound:.2f})\")\n"
      ],
      "metadata": {
        "colab": {
          "base_uri": "https://localhost:8080/"
        },
        "id": "NhNC8WTdazfu",
        "outputId": "b7aa3df6-f9b8-4418-ad4d-dbb850ba1659"
      },
      "execution_count": 3,
      "outputs": [
        {
          "output_type": "stream",
          "name": "stdout",
          "text": [
            "Mean Daily Sales: 248.25\n",
            "95% Confidence Interval: (240.17, 256.33)\n"
          ]
        }
      ]
    }
  ]
}